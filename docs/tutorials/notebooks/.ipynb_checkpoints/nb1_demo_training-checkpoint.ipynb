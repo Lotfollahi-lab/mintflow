{
 "cells": [
  {
   "cell_type": "markdown",
   "id": "497e9023-4319-41ad-b344-8ad0e7016a2a",
   "metadata": {},
   "source": [
    "Tutorial for basic training on a single tissue section\n",
    "- **Creator**: Amir Akbarnejad (aa36@sanger.ac.uk)\n",
    "- **Affiliation**: Wellcome Sanger Institute and University of Cambridge\n",
    "- **Date of Creation**: 23.06.2025\n",
    "- **Date of Last Modificaion**: 23.06.2025\n",
    "\n",
    "**To be able to run the notebook, the parts that you need to modify are specified by `TODO:MODIFY:`. The rest can be left untouched.**  \n",
    "\n",
    "This notebook demonstrates how to train MintFlow on a single tissue section. \n",
    "This notebook is only for demonstration, and to get biologically meaningful results you may need longer training and/or different hyper-parameter settings."
   ]
  },
  {
   "cell_type": "markdown",
   "id": "9f98fbab-e162-406f-a500-5961366a208a",
   "metadata": {},
   "source": [
    "# 1. Download the anndata object\n",
    "\n",
    "Download this `.h5ad` file from google drive: https://drive.google.com/file/d/187Y44hpY5OuwMu0_PA9r9WvycMOx-uz5/view?usp=sharing \n",
    "\n",
    "and place it in a directory of you choice. Thereafter, set the variable `path_anndata` below to the path where you placed the`.h5ad` file. "
   ]
  },
  {
   "cell_type": "code",
   "execution_count": null,
   "id": "dc1329ef-058c-4f4b-856f-f564a3767e95",
   "metadata": {},
   "outputs": [],
   "source": [
    "path_anndata = './NonGit/data_train_single_section.h5ad'  \n",
    "# TODO:MODIFY: set to the path where you've put the `.h5ad` file that you downloaded."
   ]
  },
  {
   "cell_type": "code",
   "execution_count": null,
   "id": "08ea3b28-8a62-44bf-8040-206cd583e675",
   "metadata": {},
   "outputs": [],
   "source": [
    "import os, sys\n",
    "import yaml\n",
    "import mintflow\n",
    "import pickle\n",
    "from tqdm.autonotebook import tqdm\n",
    "\n",
    "\n",
    "import pandas as pd\n",
    "import seaborn as sns\n",
    "import matplotlib.pyplot as plt"
   ]
  },
  {
   "cell_type": "markdown",
   "id": "ad94de4c-18e8-4b53-aeac-dcfb212d9fd0",
   "metadata": {},
   "source": [
    "# 1. Read the defualt configurations\n",
    "\n",
    "In this section 4 default configuration files are read, which are later on customised. You only need to specify \n",
    "- `num_tissue_sections_training`: Number of tissue sections to be used for training.\n",
    "- `num_tissue_sections_evaluation`: Number of tissue sections to be used for evaluation.\n",
    "\n",
    "Same tissue sections can be used for training/evaluation, in which case these two numbers are the same.\n",
    "\n"
   ]
  },
  {
   "cell_type": "code",
   "execution_count": null,
   "id": "1dc26dd6-4e33-4a28-86f1-b21992eb1160",
   "metadata": {},
   "outputs": [],
   "source": [
    "config_data_train, config_data_evaluation, config_model, config_training = mintflow.get_default_configurations(\n",
    "    num_tissue_sections_training=1,\n",
    "    num_tissue_sections_evaluation=1\n",
    ")"
   ]
  },
  {
   "cell_type": "markdown",
   "id": "969f7038-5791-4d56-9b65-21c602e92579",
   "metadata": {},
   "source": [
    "# 2. Customise the 4 configurations\n",
    "In this section we customise the four configurations returned by `mintflow.get_default_configurations` above.\n"
   ]
  },
  {
   "cell_type": "markdown",
   "id": "06ba6f93-647a-465b-8a0c-7d8f86711fbc",
   "metadata": {},
   "source": [
    "## 2.1. Costomise `config_data_train`\n",
    "\n",
    "MintFlow requires that each tissue section is saved in a separate anndata file on disk (i.e. one anndata object for each tissue section). \n",
    "The `.X` field of each anndata object is required to have raw counts, in integer data type and \"**without**\" row-sum normalisation or log1p transform. \n",
    "\n",
    "The `.obs` field of each anndata object is required to have\n",
    "- A column that specifies cell type labels\n",
    "- A column that specifies a unique tissue section (i.e. slice) identifier. For each anndata object you can add a column to its `.obs` field that contains, e.g., the index or barcode of each tissue section that you've assiened to each tissue section.\n",
    "- A column that specifies batch identifier to correct for batch effect (biological, technological, between-patient, etc.). "
   ]
  },
  {
   "cell_type": "code",
   "execution_count": null,
   "id": "a6695bbe-3f79-44a0-80ab-7511da48679f",
   "metadata": {},
   "outputs": [],
   "source": [
    "# configure tissue section 1 =========\n",
    "config_data_train['list_tissue']['anndata1']['file'] = path_anndata\n",
    "#   the absolute path to anndata object of tissue section 1 on disk.\n",
    "\n",
    "\n",
    "config_data_train['list_tissue']['anndata1']['obskey_cell_type'] = 'broad_celltypes'\n",
    "#   meaning that for the 1st tissue section, cell type labels are provided in `broad_celltypes` column of `adata.obs`.\n",
    "\n",
    "\n",
    "config_data_train['list_tissue']['anndata1']['obskey_sliceid_to_checkUnique'] = 'info_id'\n",
    "#   meaning that for the 1st tissue section, tissue section ID (i.e. slice ID) is provided in `info_id` column of `adata.obs`\n",
    "\n",
    "\n",
    "config_data_train['list_tissue']['anndata1']['obskey_x'] = 'x_centroid'\n",
    "#   meaning that for the 1st tissue section, spatial x coordinates are provided in `x_centroid` column of `adata.obs`\n",
    "\n",
    "\n",
    "config_data_train['list_tissue']['anndata1']['obskey_y'] = 'y_centroid'\n",
    "#   meaning that for the 1st tissue section, spatial y coordinates are provided in `y_centroid` column of `adata.obs`\n",
    "\n",
    "\n",
    "\n",
    "config_data_train['list_tissue']['anndata1']['obskey_biological_batch_key'] = 'info_id'\n",
    "#   meaning that for the 1st tissue section, batch identifier is provided in `info_id` column of `adata.obs`\n",
    "\n",
    "\n",
    "config_data_train['list_tissue']['anndata1']['config_dataloader_train']['width_window'] = 700\n",
    "#   For tissue section one, the crop size of the customised dataloader desribed in Supplementary Fig. 16 of paper.\n",
    "#   The larger this number, the larger the tissue crops, and the bigger the subset of cells in each training iteration.\n",
    "#      This implies that more GPU memory would be required during training.\n",
    "#   In this notebook after calling `mintflow.setup_data` in Sec 4 the crop(s) are shown on tissue, \n",
    "#      with some information on image title which can help you tune this parameter.\n",
    "#   Pleaes refer to our documenation for details about how to tune this hyperparamter."
   ]
  },
  {
   "cell_type": "markdown",
   "id": "67fbf6a6-fc45-4059-94c9-d77965575fd6",
   "metadata": {},
   "source": [
    "## 2.2. Costomise `config_data_evaluation`\n",
    "\n",
    "The set of tissue sections for evaluation can be the same, in which case the same values can be used at the following.\n",
    "\n",
    "Note that in the following cell instead of `['config_dataloader_train']['width_window']` we have `['config_dataloader_test']['width_window']`."
   ]
  },
  {
   "cell_type": "code",
   "execution_count": null,
   "id": "88d4e733-e360-4b7c-82ec-4b23a3a4d06d",
   "metadata": {},
   "outputs": [],
   "source": [
    "# configure tissue section 1 =======================\n",
    "config_data_evaluation['list_tissue']['anndata1']['file'] = path_anndata\n",
    "#   the absolute path to anndata object of tissue section 1 on disk.\n",
    "\n",
    "\n",
    "config_data_evaluation['list_tissue']['anndata1']['obskey_cell_type'] = 'broad_celltypes'\n",
    "#   meaning that for the 1st tissue section, cell type labels are provided in `broad_celltypes` column of `adata.obs`\n",
    "\n",
    "config_data_evaluation['list_tissue']['anndata1']['obskey_sliceid_to_checkUnique'] = 'info_id'\n",
    "#   meaning that for the 1st tissue section, tissue section ID (i.e. slice ID) is provided in `info_id` column of `adata.obs`\n",
    "\n",
    "config_data_evaluation['list_tissue']['anndata1']['obskey_x'] = 'x_centroid'\n",
    "#   meaning that for the 1st tissue section, spatial x coordinates are provided in `x_centroid` column of `adata.obs`\n",
    "\n",
    "\n",
    "config_data_evaluation['list_tissue']['anndata1']['obskey_y'] = 'y_centroid'\n",
    "#   meaning that for the 1st tissue section, spatial y coordinates are provided in `y_centroid` column of `adata.obs`\n",
    "\n",
    "\n",
    "config_data_evaluation['list_tissue']['anndata1']['obskey_biological_batch_key'] = 'info_id'\n",
    "#   meaning that for the 1st tissue section, batch identifier is provided in `info_id` column of `adata.obs`\n",
    "\n",
    "config_data_evaluation['list_tissue']['anndata1']['config_dataloader_test']['width_window'] = 700\n",
    "#   For tissue section one, the crop size of the customised dataloader desribed in Supplementary Fig. 16 of paper.\n",
    "#   The larger this number, the larger the tissue crops, and the bigger the subset of cells in each training iteration.\n",
    "#      This implies that more GPU memory would be required during training.\n",
    "#   In this notebook after calling `mintflow.setup_data` in Sec 4 the crop(s) are shown on tissue, \n",
    "#      with some information on image title which can help you tune this parameter.\n",
    "#   Pleaes refer to our documenation for details about how to tune this hyperparamter.\n"
   ]
  },
  {
   "cell_type": "markdown",
   "id": "1a4d572b-2349-4a4e-9595-19134a391f7e",
   "metadata": {},
   "source": [
    "## 2.3. Customise `config_model`\n",
    "\n",
    "None of model configuration are essential to tune. So in this tutorial we leave `config_model` untouched. Please refer to our documentation for changes that you can make to `config_model.`\n"
   ]
  },
  {
   "cell_type": "markdown",
   "id": "5a3d9513-021e-41b1-b965-a803466872b4",
   "metadata": {},
   "source": [
    "## 2.4. Customise `config_training` "
   ]
  },
  {
   "cell_type": "code",
   "execution_count": null,
   "id": "f7d22b04-c442-4203-bf29-7512aa269e85",
   "metadata": {},
   "outputs": [],
   "source": [
    "config_training['num_training_epochs'] = 20\n",
    "# number of training epochs, i.e. the number of times the model sees the dataset during training.\n",
    "\n",
    "config_training['flag_use_GPU'] = 'True'\n",
    "# whether GPU is used.\n",
    "\n",
    "config_training['flag_enable_wandb'] = 'True'\n",
    "# if set to True, during training different loss terms are logged to wandb.\n",
    "# It's highly recommended to enable wandb. Please refer to wandb website for more info: `wandb.ai`\n",
    "\n",
    "\n",
    "config_training['wandb_project_name'] = 'MintFlow'\n",
    "# wandb project name (ignored if `config_training['flag_enable_wandb']` is set to False)\n",
    "\n",
    "config_training['wandb_run_name'] = 'Mintflow_Tutorial_June22nd'\n",
    "# wandb run name (ignored if `config_training['flag_enable_wandb']` is set to False)\n"
   ]
  },
  {
   "cell_type": "code",
   "execution_count": null,
   "id": "9f29c7a0-4aff-4ee5-89e9-a371854ecd5f",
   "metadata": {},
   "outputs": [],
   "source": []
  },
  {
   "cell_type": "markdown",
   "id": "5b1a8a7d-dea6-485d-9778-cec18ef5a194",
   "metadata": {},
   "source": [
    "# 3. Verify and post-process the four configurations\n",
    "\n",
    "In this section we verify/and postprocess the four configurations to, e.g., check for errors."
   ]
  },
  {
   "cell_type": "code",
   "execution_count": null,
   "id": "a41e4930-7fd1-474c-98c8-3f1e0a7a5df6",
   "metadata": {},
   "outputs": [],
   "source": [
    "config_data_train = mintflow.verify_and_postprocess_config_data_train(config_data_train) "
   ]
  },
  {
   "cell_type": "code",
   "execution_count": null,
   "id": "496c2ed4-59d1-43e4-9351-e4b96489116a",
   "metadata": {},
   "outputs": [],
   "source": [
    "config_data_evaluation = mintflow.verify_and_postprocess_config_data_evaluation(config_data_evaluation)"
   ]
  },
  {
   "cell_type": "code",
   "execution_count": null,
   "id": "c1022975-305c-495e-ab8b-574dd29d7e6e",
   "metadata": {},
   "outputs": [],
   "source": [
    "config_model = mintflow.verify_and_postprocess_config_model(config_model, num_tissue_sections=len(config_data_train))  "
   ]
  },
  {
   "cell_type": "code",
   "execution_count": null,
   "id": "cc865570-18d5-4ca4-a9b5-62e1941f3013",
   "metadata": {},
   "outputs": [],
   "source": [
    "config_training = mintflow.verify_and_postprocess_config_training(config_training) "
   ]
  },
  {
   "cell_type": "markdown",
   "id": "00040a92-f697-4503-a477-d73050bd146b",
   "metadata": {},
   "source": [
    "# 4. Setup the Data/Model/Trainer\n",
    "Having created and verified the 4 configurations, in this section we create the variables `data_mintflow`, `model`, and `trainer`."
   ]
  },
  {
   "cell_type": "code",
   "execution_count": null,
   "id": "3d6d6a4c-e3cc-4af3-a536-e651901e1e7f",
   "metadata": {},
   "outputs": [],
   "source": [
    "dict_all4_configs = {\n",
    "    'config_data_train':config_data_train,\n",
    "    'config_data_evaluation':config_data_evaluation,\n",
    "    'config_model':config_model,\n",
    "    'config_training':config_training\n",
    "}"
   ]
  },
  {
   "cell_type": "code",
   "execution_count": null,
   "id": "5b90186a-3f14-48d1-b9a1-55c41d6b47fc",
   "metadata": {
    "scrolled": true
   },
   "outputs": [],
   "source": [
    "data_mintflow = mintflow.setup_data(dict_all4_configs=dict_all4_configs)"
   ]
  },
  {
   "cell_type": "code",
   "execution_count": null,
   "id": "0c25361d-7bc1-4929-8b0f-30fa94a6af52",
   "metadata": {},
   "outputs": [],
   "source": [
    "model = mintflow.setup_model(\n",
    "    dict_all4_configs=dict_all4_configs,\n",
    "    data_mintflow=data_mintflow\n",
    ")"
   ]
  },
  {
   "cell_type": "code",
   "execution_count": null,
   "id": "384b8c63-4447-49de-96f6-849bdcda0fbd",
   "metadata": {},
   "outputs": [],
   "source": [
    "trainer = mintflow.Trainer(\n",
    "    dict_all4_configs=dict_all4_configs,\n",
    "    model=model,\n",
    "    data_mintflow=data_mintflow\n",
    ")"
   ]
  },
  {
   "cell_type": "markdown",
   "id": "09e23e66-f720-4bea-bc43-14795c146d3a",
   "metadata": {},
   "source": [
    "# 5. Train the Model"
   ]
  },
  {
   "cell_type": "code",
   "execution_count": null,
   "id": "02bb38fe-89f9-468a-aacb-5c73639f78a8",
   "metadata": {
    "scrolled": true
   },
   "outputs": [],
   "source": [
    "list_evaluation_result_knownsignallinggenes = []\n",
    "for idx_epoch in tqdm(range(config_training['num_training_epochs'])):\n",
    "    '''\n",
    "    To change the number of epochs, please set `config_training['num_training_epochs']` at the beginning of this notebook\n",
    "    and please refrain from changing the for loop to, e.g., `for idx_epoch in tqdm(range(10))`.\n",
    "    ''' \n",
    "    \n",
    "    # train for one epoch\n",
    "    trainer.train_one_epoch()\n",
    "\n",
    "    # get/save the predictions\n",
    "    predictions = mintflow.predict(\n",
    "        dict_all4_configs=dict_all4_configs,\n",
    "        data_mintflow=data_mintflow,\n",
    "        model=model,\n",
    "        evalulate_on_sections=\"all\",\n",
    "    )\n",
    "    with open(\"./NonGit/predictions_epoch_{}.pkl\".format(idx_epoch), 'wb') as f:\n",
    "        pickle.dump(\n",
    "            predictions,\n",
    "            f\n",
    "        )\n",
    "\n",
    "    # save the checkpoint\n",
    "    mintflow.dump_checkpoint(\n",
    "        model=model,\n",
    "        data_mintflow=data_mintflow,\n",
    "        dict_all4_configs=dict_all4_configs,\n",
    "        path_dump=\"./NonGit/checkpoint_epoch_{}.pt\".format(idx_epoch),\n",
    "    )    \n",
    "\n"
   ]
  },
  {
   "cell_type": "code",
   "execution_count": null,
   "id": "c0dcf42d-c6ef-4f99-bdfe-578f78c24688",
   "metadata": {},
   "outputs": [],
   "source": []
  },
  {
   "cell_type": "code",
   "execution_count": null,
   "id": "876eb2f8-aa3b-4743-9f13-8f0ad752db73",
   "metadata": {
    "scrolled": true
   },
   "outputs": [],
   "source": []
  },
  {
   "cell_type": "code",
   "execution_count": null,
   "id": "c9906223-fb54-4c34-9b38-93acf96ebfa9",
   "metadata": {},
   "outputs": [],
   "source": []
  },
  {
   "cell_type": "code",
   "execution_count": null,
   "id": "bdb1ca1a-8368-4a5b-9807-271b42befa1c",
   "metadata": {},
   "outputs": [],
   "source": []
  }
 ],
 "metadata": {
  "environment": {
   "kernel": "envmintflowmay271400",
   "name": "workbench-notebooks.m129",
   "type": "gcloud",
   "uri": "us-docker.pkg.dev/deeplearning-platform-release/gcr.io/workbench-notebooks:m129"
  },
  "kernelspec": {
   "display_name": "Python 3 (ipykernel)",
   "language": "python",
   "name": "python3"
  },
  "language_info": {
   "codemirror_mode": {
    "name": "ipython",
    "version": 3
   },
   "file_extension": ".py",
   "mimetype": "text/x-python",
   "name": "python",
   "nbconvert_exporter": "python",
   "pygments_lexer": "ipython3",
   "version": "3.11.11"
  }
 },
 "nbformat": 4,
 "nbformat_minor": 5
}
